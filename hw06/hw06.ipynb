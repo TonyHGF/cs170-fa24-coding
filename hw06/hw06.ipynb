{
 "cells": [
  {
   "cell_type": "markdown",
   "id": "0aafa0bc",
   "metadata": {},
   "source": [
    "# Dynamic Programming\n",
    "\n",
    "In this notebook, we'll explore solving the Longest Increasing Subsequence problem and the Longest Path on DAGs problem using dynamic programming."
   ]
  },
  {
   "cell_type": "markdown",
   "id": "3739f769",
   "metadata": {},
   "source": [
    "### If you're using Datahub:\n",
    "* Run the cell below **and restart the kernel if needed**\n",
    "\n",
    "### If you're running locally:\n",
    "You'll need to perform some extra setup.\n",
    "#### First-time setup\n",
    "* Install Anaconda following the instructions here: https://www.anaconda.com/products/distribution \n",
    "* Create a conda environment: `conda create -n cs170 python=3.11`\n",
    "* Activate the environment: `conda activate cs170`\n",
    "    * See for more details on creating conda environments https://conda.io/projects/conda/en/latest/user-guide/tasks/manage-environments.html\n",
    "* Install pip: `conda install pip`\n",
    "* Install jupyter: `conda install jupyter`\n",
    "\n",
    "#### Every time you want to work\n",
    "* Make sure you've activated the conda environment: `conda activate cs170`\n",
    "* Launch jupyter: `jupyter notebook` or `jupyter lab` \n",
    "* Run the cell below **and restart the kernel if needed**"
   ]
  },
  {
   "cell_type": "code",
   "execution_count": 18,
   "id": "be3ba66c",
   "metadata": {},
   "outputs": [],
   "source": [
    "# Install dependencies\n",
    "!pip install -r requirements.txt --quiet"
   ]
  },
  {
   "cell_type": "code",
   "execution_count": 19,
   "id": "4276b6fd",
   "metadata": {},
   "outputs": [],
   "source": [
    "import otter\n",
    "assert (otter.__version__ >= \"5.5.0\"), \"Please reinstall the requirements and restart your kernel.\"\n",
    "\n",
    "grader = otter.Notebook(\"hw06.ipynb\")\n",
    "import time\n",
    "import tqdm\n",
    "import pickle\n",
    "import numpy as np\n",
    "import networkx as nx\n",
    "\n",
    "test_cases = pickle.load(open(\"generated_testcases.pkl\", \"rb\"))\n",
    "\n",
    "rng_seed = 0"
   ]
  },
  {
   "cell_type": "markdown",
   "id": "b2f6810b",
   "metadata": {
    "deletable": false,
    "editable": false
   },
   "source": [
    "### Q1. Longest Increasing Subsequence\n",
    "\n",
    "First implement the longest increasing subsequence. The algorithm is explained here https://people.eecs.berkeley.edu/~vazirani/algorithms/chap6.pdf#page=3.\n",
    "\n",
    "The algorithm discussed in lecture and the textbook only returns the length of the longest increasing subsequence. Here we want you to return the actual subsequence (the actual list of elements). To find the actual subsequence, it may be useful to maintain an array seperate from the dp array which can be used to reconstruct the actual sequence."
   ]
  },
  {
   "cell_type": "code",
   "execution_count": 20,
   "id": "d957a9db",
   "metadata": {
    "tags": []
   },
   "outputs": [],
   "source": [
    "def longest_increasing_subsequence (arr, n):\n",
    "    \"\"\"\n",
    "    Return a list containing longest increasing subsequence of the array.\n",
    "    If there are ties, return any one of them.\n",
    "    \n",
    "    args:\n",
    "        arr:List[int] = an array of integers\n",
    "        n:int = an int representing the length of arr\n",
    "    \n",
    "    return: \n",
    "        List[int] Containing the longest increasing subsequence. Return the actual \n",
    "        elements, not the indices of the elements.\n",
    "    \"\"\"\n",
    "    f = [1 for _ in range(n)]\n",
    "    pre = [None for _ in range(n)]\n",
    "\n",
    "    for i in range(n):\n",
    "        if i == 0:\n",
    "            continue\n",
    "        for j in range(i):\n",
    "            if arr[i] > arr[j]:\n",
    "                if f[i] < f[j] + 1:\n",
    "                    f[i] = f[j] + 1\n",
    "                    pre[i] = j\n",
    "        # print(f\"{i}: {f[i]}\")    \n",
    "\n",
    "\n",
    "    max_len = max(f)\n",
    "    lst_pos = f.index(max_len)\n",
    "    \n",
    "    res = []\n",
    "    while lst_pos is not None:\n",
    "        res.append(arr[lst_pos])\n",
    "        lst_pos = pre[lst_pos]\n",
    "    res.reverse()\n",
    "    \n",
    "    return res"
   ]
  },
  {
   "cell_type": "code",
   "execution_count": 21,
   "id": "20f5c1ad",
   "metadata": {},
   "outputs": [
    {
     "data": {
      "text/plain": [
       "[-1, 0, 2, 3, 4, 10]"
      ]
     },
     "execution_count": 21,
     "metadata": {},
     "output_type": "execute_result"
    }
   ],
   "source": [
    "arr = [1, -1, 0, 3, 2, 1, 9, 3, 4, 10]\n",
    "\n",
    "longest_increasing_subsequence(arr, len(arr))"
   ]
  },
  {
   "cell_type": "code",
   "execution_count": 22,
   "id": "1e3442ee",
   "metadata": {
    "tags": []
   },
   "outputs": [
    {
     "name": "stderr",
     "output_type": "stream",
     "text": [
      "100%|██████████| 358/358 [00:01<00:00, 261.25it/s] \n"
     ]
    }
   ],
   "source": [
    "def check_subsequence(seq, arr):\n",
    "    for i in range(len(seq) - 1):\n",
    "        assert seq[i] < seq[i + 1], f\"Your subsequence is not strictly increasing: {seq}\"\n",
    "\n",
    "    index = 0\n",
    "    matched = 0\n",
    "    while matched < len(seq) and index < len(arr):\n",
    "        if seq[matched] == arr[index]:\n",
    "            matched += 1\n",
    "        index += 1\n",
    "    assert matched == len(seq), f\"your list is not a valid subsequence of the input list.\"\n",
    "assert tqdm is not None\n",
    "\n",
    "problems = test_cases['q1']\n",
    "for arr, sol in tqdm.tqdm(problems, total=len(problems)):\n",
    "    student_sol = longest_increasing_subsequence(arr, len(arr))\n",
    "\n",
    "    assert len(student_sol) == len(sol), f\"\"\"The length of your list differs from the solution. Your list {student_sol}, the solution {sol}\"\"\"\n",
    "    check_subsequence(student_sol, arr)\n"
   ]
  },
  {
   "cell_type": "markdown",
   "id": "d8475cfc",
   "metadata": {
    "deletable": false,
    "editable": false
   },
   "source": [
    "__Note: your solution should not take inordinate amounts of time to run. If it takes more than 10 seconds to run, it is too slow__\n",
    "\n",
    "__We will also check submissions for hardcoded solutions.__"
   ]
  },
  {
   "cell_type": "code",
   "execution_count": 23,
   "id": "bcfc910d",
   "metadata": {
    "deletable": false,
    "editable": false
   },
   "outputs": [
    {
     "name": "stderr",
     "output_type": "stream",
     "text": [
      "100%|██████████| 358/358 [00:01<00:00, 231.40it/s] \n"
     ]
    },
    {
     "data": {
      "text/html": [
       "<p><strong><pre style='display: inline;'>LIS</pre></strong> passed! 🍀</p>"
      ],
      "text/plain": [
       "LIS results: All test cases passed!"
      ]
     },
     "execution_count": 23,
     "metadata": {},
     "output_type": "execute_result"
    }
   ],
   "source": [
    "grader.check(\"LIS\")"
   ]
  },
  {
   "cell_type": "markdown",
   "id": "272cb56c",
   "metadata": {
    "deletable": false,
    "editable": false
   },
   "source": [
    "### Representing graphs in code (Part 2!!!)\n",
    "Unlike last week's assignment, our graphs are now weighted, so we'll need to store weights alongside the edge information. Using an edge list representation, we can represent directed edges $(u, v)$ with weight $w$ by creating a list of tuples `(u, v, w)`.\n",
    "\n",
    "However, like last week, we'd like to represent our graph using adjacency lists. We can represent the directed edge $(u, v)$ with weight $w$ by storing the tuple `(v, w)`  in `adj_list[u]`.\n"
   ]
  },
  {
   "cell_type": "code",
   "execution_count": 24,
   "id": "790c639d",
   "metadata": {
    "deletable": false,
    "editable": false
   },
   "outputs": [],
   "source": [
    "def generate_adj_list(n, edge_list):\n",
    "    \"\"\"\n",
    "    args:\n",
    "        n:int = number of nodes in the graph. The nodes are labelled with integers 0 through n-1\n",
    "        edge_list:List[Tuple[int,int,int]] = edge list where each tuple (u,v,w) represents the directed \n",
    "            and weighted edge (u,v,w) in the graph\n",
    "    return:\n",
    "        A List[List[Tuple[int, int]]] representing the adjacency list \n",
    "    \"\"\"\n",
    "    adj_list = [[] for i in range(n)] \n",
    "    for u, v, w in edge_list:\n",
    "        adj_list[u].append((v, w))\n",
    "    for nodes in adj_list:\n",
    "        nodes.sort()\n",
    "    return adj_list\n",
    "\n",
    "def draw_graph(adj_list):\n",
    "    \"\"\"Utility method for visualizing graphs\n",
    "\n",
    "    args:\n",
    "        adj_list (List[List[Tuple[int, int]]]): adjacency list of the graph given by generate_adj_list\n",
    "    \"\"\"\n",
    "    G = nx.DiGraph()\n",
    "    for u in range(len(adj_list)):\n",
    "        for v, w in adj_list[u]:\n",
    "            G.add_edge(u, v, weight=w)\n",
    "    nx.draw(G, with_labels=True)"
   ]
  },
  {
   "cell_type": "code",
   "execution_count": 25,
   "id": "1f4457ea",
   "metadata": {},
   "outputs": [
    {
     "data": {
      "image/png": "[encoded data removed]",
      "text/plain": [
       "<Figure size 640x480 with 1 Axes>"
      ]
     },
     "metadata": {},
     "output_type": "display_data"
    }
   ],
   "source": [
    "edges = [(1,2,5), (2,4,1), (3,2,5)]\n",
    "adj = generate_adj_list(4, edges)\n",
    "\n",
    "draw_graph(adj)"
   ]
  },
  {
   "cell_type": "markdown",
   "id": "14c83097",
   "metadata": {
    "deletable": false,
    "editable": false
   },
   "source": [
    "### Q2. Longest (Simple) Path in DAGS\n",
    "It is thought that on general graphs, there is no efficient algorithm to solve the Longest Simple Path problem on general graphs. The main reason for this difficulty is that it is generally difficult to make an algorithm that ignores cycles in a graph.\n",
    "\n",
    "However, there is an efficient dynamic programming algorithm to find the longest path on DAGs, since these graphs have no cycles. Specifically, the way to find longest paths on a DAG is the exact same as finding the shortest path on a DAG, except at each step you take the maximum rather than minimum distance. See https://people.eecs.berkeley.edu/~vazirani/algorithms/chap6.pdf for more details.\n",
    "\n",
    "In this context, \"longest\" means largest sum of edge weights, regardless of the number of edges in the path.\n",
    "\n",
    "You may assume all test cases are directed acyclic graphs, so you don't need to check for cycles. Some test cases are already topologoically sorted for you, but others are not. Feel free to use code from previous homeworks to help you. "
   ]
  },
  {
   "cell_type": "code",
   "execution_count": 33,
   "id": "c938f3ae",
   "metadata": {
    "tags": []
   },
   "outputs": [],
   "source": [
    "...\n",
    "def longest_path_on_DAGS(adj_list):\n",
    "    \"\"\"\n",
    "    Return a list containing the longest path on the dag. If there are ties, return \n",
    "    any such path. If there are none, return the empty list.\n",
    "    \n",
    "    args:\n",
    "    adj_list: an adjacency list representing the DAG.\n",
    "    \n",
    "    return: the longest path as a list of nodes the list [a, b, c, d, e] correspondes \n",
    "            to the path a -> b -> c -> d -> e\n",
    "    \"\"\"\n",
    "    n = len(adj_list)\n",
    "    for edges in adj_list:\n",
    "        for node, _ in edges:\n",
    "            n = max(n, node)\n",
    "\n",
    "    n += 1\n",
    "    for _ in range(len(adj_list), n):\n",
    "        adj_list.append([])\n",
    "\n",
    "    in_deg = [0 for _ in range(n)]\n",
    "\n",
    "    for node in range(n):\n",
    "        for nxt, _ in adj_list[node]:\n",
    "            in_deg[nxt] += 1       \n",
    "\n",
    "    topo_order = []\n",
    "    queue = [u for u in range(n) if in_deg[u] == 0]\n",
    "    while queue:\n",
    "        u = queue.pop(0)\n",
    "        topo_order.append(u)\n",
    "        for v, _ in adj_list[u]:\n",
    "            in_deg[v] -= 1\n",
    "            if in_deg[v] == 0:\n",
    "                queue.append(v)\n",
    "\n",
    "\n",
    "    f = [0 for _ in range(n)]\n",
    "    prev = [None for _ in range(n)]\n",
    "\n",
    "    for u in topo_order:\n",
    "        for v, w in adj_list[u]:\n",
    "            if f[v] < f[u] + w:\n",
    "                f[v] = f[u] + w\n",
    "                prev[v] = u\n",
    "\n",
    "    max_len = 0\n",
    "    tail = None\n",
    "\n",
    "    max_len = max(f)\n",
    "    tail = f.index(max_len)\n",
    "    \n",
    "    res = []\n",
    "    while tail is not None:\n",
    "        res.append(tail)\n",
    "        tail = prev[tail]\n",
    "\n",
    "    res.reverse()\n",
    "\n",
    "    return res"
   ]
  },
  {
   "cell_type": "code",
   "execution_count": 34,
   "id": "30ab64b6",
   "metadata": {},
   "outputs": [
    {
     "name": "stdout",
     "output_type": "stream",
     "text": [
      "[[], [(2, -1)], [(3, -3), (4, 4)], [(4, 5)]]\n"
     ]
    },
    {
     "data": {
      "text/plain": [
       "[3, 4]"
      ]
     },
     "execution_count": 34,
     "metadata": {},
     "output_type": "execute_result"
    },
    {
     "data": {
      "image/png": "[encoded data removed]",
      "text/plain": [
       "<Figure size 640x480 with 1 Axes>"
      ]
     },
     "metadata": {},
     "output_type": "display_data"
    }
   ],
   "source": [
    "edges = [(1,2,-1), (2,3,-3), (3,4,5), (2,4,4)]\n",
    "adj = generate_adj_list(4, edges)\n",
    "print(adj)\n",
    "draw_graph(adj)\n",
    "\n",
    "longest_path_on_DAGS(adj)"
   ]
  },
  {
   "cell_type": "code",
   "execution_count": 35,
   "id": "85dbb439",
   "metadata": {
    "tags": []
   },
   "outputs": [
    {
     "name": "stderr",
     "output_type": "stream",
     "text": [
      "100%|██████████| 21/21 [00:00<00:00, 1986.70it/s]\n"
     ]
    }
   ],
   "source": [
    "problems = test_cases['q2']\n",
    "for adj_list in tqdm.tqdm(problems, total=len(problems)):\n",
    "    G = nx.DiGraph({u: {v: {'weight': w} for v, w in neighbors} for u, neighbors in enumerate(adj_list)})\n",
    "\n",
    "    # bans networkx\n",
    "    nxall = nx\n",
    "    def error(*args, **kwargs):\n",
    "        nx = nxall\n",
    "        raise Exception(\"You may not call any graph libraries, modules, or functions.\")\n",
    "    nx = error\n",
    "\n",
    "    try:\n",
    "        path = longest_path_on_DAGS(adj_list)\n",
    "    finally: \n",
    "        nx = nxall \n",
    "\n",
    "    # checks that the path returned is a real path in the graph and that it starts and ends \n",
    "    # at the right vertices\n",
    "    assert nx.is_simple_path(G, path), f\"your algorithm did not return a valid simple path\"\n",
    "\n",
    "    # checks that the path returned is the longest path\n",
    "    opt_path_length = nx.dag_longest_path_length(G)\n",
    "    student_path_length = sum(G[path[i]][path[i+1]]['weight'] for i in range(len(path)-1))\n",
    "    assert student_path_length == opt_path_length, f\"your algorithm did not return the shortest path: {student_path_length} vs {opt_path_length}\"\n",
    "    "
   ]
  },
  {
   "cell_type": "code",
   "execution_count": 36,
   "id": "5610b1d0",
   "metadata": {
    "deletable": false,
    "editable": false
   },
   "outputs": [
    {
     "name": "stderr",
     "output_type": "stream",
     "text": [
      "100%|██████████| 21/21 [00:00<00:00, 3461.87it/s]\n",
      "100%|██████████| 20/20 [01:56<00:00,  5.82s/it]\n"
     ]
    },
    {
     "data": {
      "text/html": [
       "<p><strong><pre style='display: inline;'>DAG-longest-path</pre></strong> passed! 🌟</p>"
      ],
      "text/plain": [
       "DAG-longest-path results: All test cases passed!"
      ]
     },
     "execution_count": 36,
     "metadata": {},
     "output_type": "execute_result"
    }
   ],
   "source": [
    "grader.check(\"DAG-longest-path\")"
   ]
  },
  {
   "cell_type": "markdown",
   "id": "9dada883",
   "metadata": {
    "deletable": false,
    "editable": false
   },
   "source": [
    "## Submission\n",
    "\n",
    "Make sure you have run all cells in your notebook in order before running the cell below, so that all images/graphs appear in the output. The cell below will generate a zip file for you to submit."
   ]
  },
  {
   "cell_type": "code",
   "execution_count": 37,
   "id": "0bc0edf5",
   "metadata": {
    "deletable": false,
    "editable": false
   },
   "outputs": [
    {
     "data": {
      "application/javascript": "\n            if (typeof Jupyter !== 'undefined') {\n                Jupyter.notebook.save_checkpoint();\n            }\n        ",
      "text/plain": [
       "<IPython.core.display.Javascript object>"
      ]
     },
     "metadata": {},
     "output_type": "display_data"
    },
    {
     "name": "stdout",
     "output_type": "stream",
     "text": [
      "Running your submission against local test cases...\n",
      "\n",
      "\n",
      "Your submission received the following results when run against available test cases:\n",
      "\n",
      "    LIS results: All test cases passed!\n",
      "\n",
      "    DAG-longest-path results: All test cases passed!\n"
     ]
    },
    {
     "data": {
      "text/html": [
       "\n",
       "                    <p>\n",
       "                        Your submission has been exported. Click\n",
       "                        <a href=\"hw06_2024_10_11T12_22_57_706787.zip\" download=\"hw06_2024_10_11T12_22_57_706787.zip\" target=\"_blank\">here</a> to download\n",
       "                        the zip file.\n",
       "                    </p>\n",
       "                "
      ],
      "text/plain": [
       "<IPython.core.display.HTML object>"
      ]
     },
     "metadata": {},
     "output_type": "display_data"
    }
   ],
   "source": [
    "grader.export(pdf=False, force_save=True, run_tests=True)"
   ]
  },
  {
   "cell_type": "markdown",
   "id": "d3d943c3",
   "metadata": {},
   "source": [
    " "
   ]
  }
 ],
 "metadata": {
  "kernelspec": {
   "display_name": "cs170",
   "language": "python",
   "name": "python3"
  },
  "language_info": {
   "codemirror_mode": {
    "name": "ipython",
    "version": 3
   },
   "file_extension": ".py",
   "mimetype": "text/x-python",
   "name": "python",
   "nbconvert_exporter": "python",
   "pygments_lexer": "ipython3",
   "version": "3.9.19"
  },
  "otter": {
   "OK_FORMAT": false,
   "assignment_name": "hw06",
   "tests": {
    "DAG-longest-path": "from otter.test_files import test_case\n\nOK_FORMAT = False\n\nname = \"DAG-longest-path\"\npoints = 2\n\n@test_case(points=None, hidden=False)\ndef test_longest_path_handmade(test_cases, longest_path_on_DAGS, tqdm, nx):\n    assert tqdm is not None\n\n    problems = test_cases['q2']\n    # no shuffle for public tests\n    for adj_list in tqdm.tqdm(problems, total=len(problems)):\n        G = nx.DiGraph({u: {v: {'weight': w} for v, w in neighbors} for u, neighbors in enumerate(adj_list)})\n\n        # bans networkx\n        nxall = nx\n        def error(*args, **kwargs):\n            nx = nxall\n            raise Exception(\"You may not call any graph libraries, modules, or functions.\")\n        nx = error\n\n        try:\n            path = longest_path_on_DAGS(adj_list)\n        finally: \n            nx = nxall \n\n        # checks that the path returned is a real path in the graph and that it starts and ends \n        # at the right vertices\n        assert nx.is_simple_path(G, path), f\"your algorithm did not return a valid simple path\"\n\n        # checks that the path returned is the longest path\n        opt_path_length = nx.dag_longest_path_length(G)\n        student_path_length = sum(G[path[i]][path[i+1]]['weight'] for i in range(len(path)-1))\n        assert student_path_length == opt_path_length, f\"your algorithm did not return the shortest path\"\n        \n@test_case(points=None, hidden=False)\ndef test_longest_path_random(test_cases, generate_adj_list, longest_path_on_DAGS, tqdm, np, nx, rng_seed):\n    rng = np.random.default_rng(rng_seed)\n    def erase_cycles(G):\n        try:\n            while True:\n                cycle = nx.find_cycle(G, orientation='original')\n                G.remove_edge(*cycle[0][:2])\n        except nx.NetworkXNoCycle:\n            pass  # No more cycles\n        return G\n\n    # no shuffle for public tests\n    for n in tqdm.tqdm(range(20,1001,50)):\n        # nice value to ensure graph is probably connected but\n        # big graphs are not too dense (slow)\n        p = np.log(n) / n\n        random_graph = nx.gnp_random_graph(n, p, seed=rng_seed+n, directed=True)\n        for u, v in random_graph.edges:\n            random_graph[u][v]['weight'] = int(rng.integers(-n, n))\n\n        G = erase_cycles(random_graph)\n\n        # note that the graph (and the adjacency list) is directed\n        adj_list_graph = generate_adj_list(n, G.edges(data=\"weight\"))\n\n        # bans networkx\n        nxall = nx\n        def error(*args, **kwargs):\n            nx = nxall\n            raise Exception(\"You may not call any graph libraries, modules, or functions.\")\n        nx = error\n\n        try:\n            path = longest_path_on_DAGS(adj_list_graph)\n        finally: \n            nx = nxall \n\n        # checks that the path returned is a real path in the graph and that it starts and ends \n        # at the right vertices\n        assert nx.is_simple_path(G, path), f\"your algorithm did not return a valid simple path\"\n\n        # checks that the path returned is the longest path\n        opt_path_length = nx.dag_longest_path_length(G)\n        student_path_length = sum(G[path[i]][path[i+1]]['weight'] for i in range(len(path)-1))\n\n        assert student_path_length == opt_path_length, f\"your algorithm did not return the shortest path\"\n        \n",
    "LIS": "from otter.test_files import test_case\n\nOK_FORMAT = False\n\nname = \"LIS\"\npoints = 2\n\n@test_case(points=None, hidden=False)\ndef test_LIS(test_cases, longest_increasing_subsequence, tqdm):\n\n    def check_subsequence(seq, arr):\n        for i in range(len(seq) - 1):\n            assert seq[i] < seq[i + 1], f\"Your subsequence is not strictly increasing: {seq}\"\n\n        index = 0\n        matched = 0\n        while matched < len(seq) and index < len(arr):\n            if seq[matched] == arr[index]:\n                matched += 1\n            index += 1\n        assert matched == len(seq), f\"your list is not a valid subsequence of the input list.\"\n    assert tqdm is not None\n\n    problems = test_cases['q1']\n    # no shuffle for public tests\n    for arr, sol in tqdm.tqdm(problems, total=len(problems)):\n        student_sol = longest_increasing_subsequence(arr, len(arr))\n\n        assert len(student_sol) == len(sol), f\"\"\"The length of your list differs from the solution. Your list {student_sol}, the solution {sol}\"\"\"\n        check_subsequence(student_sol, arr)\n        \n"
   }
  }
 },
 "nbformat": 4,
 "nbformat_minor": 5
}
